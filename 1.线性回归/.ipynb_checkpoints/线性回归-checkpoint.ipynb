{
 "cells": [
  {
   "cell_type": "markdown",
   "metadata": {},
   "source": [
    "## 线性回归\n",
    "**时间：**2020.02.12 晴天"
   ]
  },
  {
   "cell_type": "markdown",
   "metadata": {},
   "source": [
    "## 线性回归原理"
   ]
  },
  {
   "cell_type": "code",
   "execution_count": 103,
   "metadata": {},
   "outputs": [],
   "source": [
    "import torch as t\n",
    "from IPython import display\n",
    "from matplotlib import pyplot as plt\n",
    "import numpy as np\n",
    "import random"
   ]
  },
  {
   "cell_type": "markdown",
   "metadata": {},
   "source": [
    "### 数据处理 "
   ]
  },
  {
   "cell_type": "code",
   "execution_count": 104,
   "metadata": {},
   "outputs": [],
   "source": [
    "feature = 2\n",
    "samples = 1000\n",
    "\n",
    "# 设置参数\n",
    "true_w = [2, -3.4]\n",
    "true_b = 4.2\n",
    "\n",
    "# 生成数据\n",
    "data = t.randn(samples, feature, dtype=t.float32)\n",
    "labels = true_w[0] * data[:, 0] + true_w[1] * data[:, 1] + true_b\n",
    "\n",
    "# 数据添加噪声\n",
    "labels += t.tensor(np.random.normal(0, 0.01, size = labels.size()), dtype=t.float32)"
   ]
  },
  {
   "cell_type": "markdown",
   "metadata": {},
   "source": [
    "### 数据显示"
   ]
  },
  {
   "cell_type": "code",
   "execution_count": 105,
   "metadata": {},
   "outputs": [
    {
     "data": {
      "image/png": "[encoded data removed]",
      "text/plain": [
       "<Figure size 432x288 with 1 Axes>"
      ]
     },
     "metadata": {
      "needs_background": "light"
     },
     "output_type": "display_data"
    }
   ],
   "source": [
    "# 只显示了一个维度的数据\n",
    "plt.scatter(data.numpy()[:, 1], labels.numpy(), s=1)\n",
    "plt.show()"
   ]
  },
  {
   "cell_type": "markdown",
   "metadata": {},
   "source": [
    "### 数据的读取 "
   ]
  },
  {
   "cell_type": "code",
   "execution_count": 106,
   "metadata": {},
   "outputs": [],
   "source": [
    "def data_iter(batch_size, features, labels):\n",
    "    \"\"\"数据的读取\"\"\"\n",
    "    num_examples = len(features)\n",
    "    indices = list(range(num_examples))\n",
    "    # 打乱数据\n",
    "    random.shuffle(indices)\n",
    "    \n",
    "    for i in range(0, num_examples, batch_size):\n",
    "        # 取出索引值\n",
    "        j = t.LongTensor(indices[i:min(i + batch_size, num_examples)])\n",
    "        \n",
    "        yield features.index_select(0, j), labels.index_select(0, j)"
   ]
  },
  {
   "cell_type": "code",
   "execution_count": 107,
   "metadata": {},
   "outputs": [
    {
     "name": "stdout",
     "output_type": "stream",
     "text": [
      "tensor([[-0.2619,  0.1513],\n",
      "        [-0.1637, -0.3582],\n",
      "        [ 0.0546,  0.7364],\n",
      "        [-0.2335, -0.5404],\n",
      "        [-0.1112,  1.5630],\n",
      "        [ 1.0476, -0.3176],\n",
      "        [ 0.3164,  1.5304],\n",
      "        [ 0.1144, -0.9690],\n",
      "        [-0.2256, -1.3368],\n",
      "        [ 0.6522, -0.8726]]) tensor([ 3.1728,  5.1040,  1.8002,  5.5592, -1.3215,  7.3805, -0.3650,  7.7151,\n",
      "         8.2948,  8.4667])\n"
     ]
    }
   ],
   "source": [
    "batch_size = 10\n",
    "for X, y in data_iter(batch_size=batch_size, features=data, labels=labels):\n",
    "    print(X, y)\n",
    "    break"
   ]
  },
  {
   "cell_type": "markdown",
   "metadata": {},
   "source": [
    "### 参数初始化 "
   ]
  },
  {
   "cell_type": "code",
   "execution_count": 108,
   "metadata": {},
   "outputs": [
    {
     "data": {
      "text/plain": [
       "tensor([0.], requires_grad=True)"
      ]
     },
     "execution_count": 108,
     "metadata": {},
     "output_type": "execute_result"
    }
   ],
   "source": [
    "w = t.tensor(np.random.normal(0, 0.01, (feature, 1)), dtype=t.float32)\n",
    "b = t.zeros(1, dtype=t.float32)\n",
    "\n",
    "w.requires_grad_(requires_grad=True)\n",
    "b.requires_grad_(requires_grad=True)"
   ]
  },
  {
   "cell_type": "markdown",
   "metadata": {},
   "source": [
    "### 定义模型和损失函数"
   ]
  },
  {
   "cell_type": "code",
   "execution_count": 109,
   "metadata": {},
   "outputs": [],
   "source": [
    "def linreg(X, w, b):\n",
    "    \"\"\"线性回归模型\"\"\"\n",
    "    return t.mm(X, w) + b\n",
    "\n",
    "def squared_loss(y_hat, y):\n",
    "    \"\"\"均方误差损失\"\"\"\n",
    "    return ((y_hat - y.view(y_hat.size())) **2)/ 2\n",
    "\n",
    "def sgd(params, lr, batch_size):\n",
    "    \"\"\"\n",
    "    优化函数（小批量的梯度下降）\n",
    "    小批量的是计算一个batch中所有数据的Loss,再对一个batch的梯度进行平均\n",
    "    \"\"\"\n",
    "    for param in params:\n",
    "        param.data -= param.grad * lr / batch_size        "
   ]
  },
  {
   "cell_type": "code",
   "execution_count": 161,
   "metadata": {},
   "outputs": [
    {
     "data": {
      "text/plain": [
       "0.11205005645751953"
      ]
     },
     "execution_count": 161,
     "metadata": {},
     "output_type": "execute_result"
    }
   ],
   "source": [
    "(squared_loss(t.tensor([2.33, 1.07, 1.23]), t.tensor([3.14, 0.98, 1.32])).sum()/3).item()"
   ]
  },
  {
   "cell_type": "markdown",
   "metadata": {},
   "source": [
    "### 训练"
   ]
  },
  {
   "cell_type": "code",
   "execution_count": 110,
   "metadata": {},
   "outputs": [
    {
     "name": "stdout",
     "output_type": "stream",
     "text": [
      "epoch  1, loss 0.026111\n",
      "epoch  2, loss 0.000089\n",
      "epoch  3, loss 0.000047\n",
      "epoch  4, loss 0.000047\n",
      "epoch  5, loss 0.000047\n"
     ]
    }
   ],
   "source": [
    "# 定义超参数\n",
    "\n",
    "lr = 0.03\n",
    "\n",
    "num_epochs = 5\n",
    "\n",
    "net = linreg\n",
    "loss = squared_loss\n",
    "\n",
    "for epoch in range(num_epochs):\n",
    "    \n",
    "    for X, y in data_iter(batch_size=batch_size, features=data, labels=labels):\n",
    "        \n",
    "        l = loss(net(X, w, b), y).sum()\n",
    "        # BP\n",
    "        l.backward()\n",
    "        # 更新参数\n",
    "        sgd([w, b], lr, batch_size=batch_size)\n",
    "        # 梯度清零\n",
    "        w.grad.data.zero_()\n",
    "        b.grad.data.zero_()\n",
    "    train_l = loss(net(data, w, b), labels)\n",
    "    print(\"epoch % d, loss %f\"%(epoch+1, train_l.mean().item()))"
   ]
  },
  {
   "cell_type": "markdown",
   "metadata": {},
   "source": [
    "## 使用pytorch简洁使用网络"
   ]
  },
  {
   "cell_type": "code",
   "execution_count": 111,
   "metadata": {},
   "outputs": [],
   "source": [
    "import torch\n",
    "from torch import nn\n",
    "import numpy as np\n",
    "import torch.utils.data as Data\n",
    "# 使得模型的可复现性\n",
    "torch.manual_seed(1)\n",
    "# 设置默认的数据格式\n",
    "torch.set_default_tensor_type('torch.FloatTensor')"
   ]
  },
  {
   "cell_type": "markdown",
   "metadata": {},
   "source": [
    "### 生成数据"
   ]
  },
  {
   "cell_type": "code",
   "execution_count": 112,
   "metadata": {},
   "outputs": [],
   "source": [
    "num_inputs = 2\n",
    "num_examples = 1000\n",
    "\n",
    "true_w = [2, -3.4]\n",
    "true_b = 4.2\n",
    "\n",
    "features = torch.tensor(np.random.normal(0, 1, (num_examples, num_inputs)), dtype=torch.float)\n",
    "labels = true_w[0] * features[:, 0] + true_w[1] * features[:, 1] + true_b\n",
    "labels += torch.tensor(np.random.normal(0, 0.01, size=labels.size()), dtype=torch.float)"
   ]
  },
  {
   "cell_type": "markdown",
   "metadata": {},
   "source": [
    "### 读取数据 "
   ]
  },
  {
   "cell_type": "code",
   "execution_count": 114,
   "metadata": {},
   "outputs": [
    {
     "name": "stdout",
     "output_type": "stream",
     "text": [
      "tensor([[ 0.4670, -0.2674],\n",
      "        [ 0.5162,  1.0829],\n",
      "        [ 0.6909,  0.8760],\n",
      "        [ 0.3215,  0.5083],\n",
      "        [-0.0223, -1.2509],\n",
      "        [ 0.1872, -0.0183],\n",
      "        [-1.8777, -0.7100],\n",
      "        [-1.6392, -0.5318],\n",
      "        [ 1.7745,  0.3918],\n",
      "        [-0.9897, -1.2424]]) tensor([6.0275, 1.5531, 2.6031, 3.1168, 8.4233, 4.6281, 2.8549, 2.7309, 6.4043,\n",
      "        6.4452])\n"
     ]
    }
   ],
   "source": [
    "batch_size = 10\n",
    "\n",
    "dataset = Data.TensorDataset(features, labels)\n",
    "# 查看数据的存储类型 [*dataset]\n",
    "data_iter = Data.DataLoader(dataset, batch_size, shuffle=True, num_workers=2)\n",
    "for X, y in data_iter:\n",
    "    print(X, y)\n",
    "    break"
   ]
  },
  {
   "cell_type": "markdown",
   "metadata": {},
   "source": [
    "### 定义网络"
   ]
  },
  {
   "cell_type": "code",
   "execution_count": 139,
   "metadata": {},
   "outputs": [
    {
     "name": "stdout",
     "output_type": "stream",
     "text": [
      "LinearNet(\n",
      "  (linear): Linear(in_features=2, out_features=1, bias=True)\n",
      ")\n"
     ]
    }
   ],
   "source": [
    "class LinearNet(nn.Module):\n",
    "    def __init__(self, n_feature):\n",
    "        super(LinearNet, self).__init__()\n",
    "        self.linear = nn.Linear(n_feature, 1)\n",
    "    \n",
    "    def forward(self, x):\n",
    "        return self.linear(x)\n",
    "net = LinearNet(feature)\n",
    "print(net)"
   ]
  },
  {
   "cell_type": "markdown",
   "metadata": {},
   "source": [
    "### 初始化参数模型"
   ]
  },
  {
   "cell_type": "code",
   "execution_count": 157,
   "metadata": {},
   "outputs": [],
   "source": [
    "from torch.nn import init\n",
    "for name, param in net.named_parameters():\n",
    "    if name == \"linear.weight\":\n",
    "        init.normal_(param, mean=0.0, std=0.01)\n",
    "    else:\n",
    "        init.constant_(param, val=0.0)"
   ]
  },
  {
   "cell_type": "code",
   "execution_count": 141,
   "metadata": {},
   "outputs": [
    {
     "data": {
      "text/plain": [
       "[Parameter containing:\n",
       " tensor([[ 0.0107, -0.0065]], requires_grad=True), Parameter containing:\n",
       " tensor([0.], requires_grad=True)]"
      ]
     },
     "execution_count": 141,
     "metadata": {},
     "output_type": "execute_result"
    }
   ],
   "source": [
    "# 查看初始化的参数\n",
    "[*net.parameters()]"
   ]
  },
  {
   "cell_type": "markdown",
   "metadata": {},
   "source": [
    "### 训练"
   ]
  },
  {
   "cell_type": "code",
   "execution_count": 155,
   "metadata": {},
   "outputs": [
    {
     "name": "stdout",
     "output_type": "stream",
     "text": [
      "epcoch:0, loss:0.000053\n",
      "epcoch:1, loss:0.000073\n",
      "epcoch:2, loss:0.000067\n",
      "epcoch:3, loss:0.000123\n",
      "epcoch:4, loss:0.000107\n",
      "linear.weight Parameter containing:\n",
      "tensor([[ 1.9999, -3.4007]], requires_grad=True)\n",
      "linear.bias Parameter containing:\n",
      "tensor([4.2001], requires_grad=True)\n"
     ]
    }
   ],
   "source": [
    "# 超参数\n",
    "lr = 0.01\n",
    "batch_size = 10\n",
    "num_epochs = 5\n",
    "# 定义损失\n",
    "critrion = nn.MSELoss()\n",
    "# 定义优化函数\n",
    "optimizer = t.optim.SGD(net.parameters(), lr=lr)\n",
    "\n",
    "for epoch in range(num_epochs):\n",
    "    for X, y in data_iter:\n",
    "        out = net(X)\n",
    "        loss = critrion(out, y.view(-1, 1))\n",
    "        optimizer.zero_grad()\n",
    "        loss.backward()\n",
    "        optimizer.step()\n",
    "    print(\"epcoch:%d, loss:%f\"%(epoch, loss.item()))\n"
   ]
  },
  {
   "cell_type": "code",
   "execution_count": 156,
   "metadata": {},
   "outputs": [
    {
     "name": "stdout",
     "output_type": "stream",
     "text": [
      "linear.weight Parameter containing:\n",
      "tensor([[ 1.9999, -3.4007]], requires_grad=True)\n",
      "linear.bias Parameter containing:\n",
      "tensor([4.2001], requires_grad=True)\n"
     ]
    }
   ],
   "source": [
    "#查看训练参数\n",
    "for name, param in net.named_parameters():\n",
    "    print(name, param)"
   ]
  },
  {
   "cell_type": "code",
   "execution_count": null,
   "metadata": {},
   "outputs": [],
   "source": []
  },
  {
   "cell_type": "code",
   "execution_count": null,
   "metadata": {},
   "outputs": [],
   "source": []
  }
 ],
 "metadata": {
  "kernelspec": {
   "display_name": "Python 3",
   "language": "python",
   "name": "python3"
  },
  "language_info": {
   "codemirror_mode": {
    "name": "ipython",
    "version": 3
   },
   "file_extension": ".py",
   "mimetype": "text/x-python",
   "name": "python",
   "nbconvert_exporter": "python",
   "pygments_lexer": "ipython3",
   "version": "3.6.5"
  }
 },
 "nbformat": 4,
 "nbformat_minor": 4
}

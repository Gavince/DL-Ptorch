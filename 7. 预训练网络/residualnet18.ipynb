{
 "cells": [
  {
   "cell_type": "code",
   "execution_count": 5,
   "metadata": {},
   "outputs": [],
   "source": [
    "from torchvision.models import resnet18\n",
    "from torchsummary import summary\n",
    "import torch as t\n",
    "from torchvision import models\n",
    "from torch.utils.tensorboard import SummaryWriter"
   ]
  },
  {
   "cell_type": "code",
   "execution_count": 7,
   "metadata": {},
   "outputs": [],
   "source": [
    "model = resnet18(pretrained=True)"
   ]
  },
  {
   "cell_type": "code",
   "execution_count": null,
   "metadata": {},
   "outputs": [],
   "source": []
  },
  {
   "cell_type": "code",
   "execution_count": 9,
   "metadata": {},
   "outputs": [
    {
     "name": "stdout",
     "output_type": "stream",
     "text": [
      "----------------------------------------------------------------\n",
      "        Layer (type)               Output Shape         Param #\n",
      "================================================================\n",
      "            Conv2d-1         [-1, 64, 112, 112]           9,408\n",
      "       BatchNorm2d-2         [-1, 64, 112, 112]             128\n",
      "              ReLU-3         [-1, 64, 112, 112]               0\n",
      "         MaxPool2d-4           [-1, 64, 56, 56]               0\n",
      "            Conv2d-5           [-1, 64, 56, 56]          36,864\n",
      "       BatchNorm2d-6           [-1, 64, 56, 56]             128\n",
      "              ReLU-7           [-1, 64, 56, 56]               0\n",
      "            Conv2d-8           [-1, 64, 56, 56]          36,864\n",
      "       BatchNorm2d-9           [-1, 64, 56, 56]             128\n",
      "             ReLU-10           [-1, 64, 56, 56]               0\n",
      "       BasicBlock-11           [-1, 64, 56, 56]               0\n",
      "           Conv2d-12           [-1, 64, 56, 56]          36,864\n",
      "      BatchNorm2d-13           [-1, 64, 56, 56]             128\n",
      "             ReLU-14           [-1, 64, 56, 56]               0\n",
      "           Conv2d-15           [-1, 64, 56, 56]          36,864\n",
      "      BatchNorm2d-16           [-1, 64, 56, 56]             128\n",
      "             ReLU-17           [-1, 64, 56, 56]               0\n",
      "       BasicBlock-18           [-1, 64, 56, 56]               0\n",
      "           Conv2d-19          [-1, 128, 28, 28]          73,728\n",
      "      BatchNorm2d-20          [-1, 128, 28, 28]             256\n",
      "             ReLU-21          [-1, 128, 28, 28]               0\n",
      "           Conv2d-22          [-1, 128, 28, 28]         147,456\n",
      "      BatchNorm2d-23          [-1, 128, 28, 28]             256\n",
      "           Conv2d-24          [-1, 128, 28, 28]           8,192\n",
      "      BatchNorm2d-25          [-1, 128, 28, 28]             256\n",
      "             ReLU-26          [-1, 128, 28, 28]               0\n",
      "       BasicBlock-27          [-1, 128, 28, 28]               0\n",
      "           Conv2d-28          [-1, 128, 28, 28]         147,456\n",
      "      BatchNorm2d-29          [-1, 128, 28, 28]             256\n",
      "             ReLU-30          [-1, 128, 28, 28]               0\n",
      "           Conv2d-31          [-1, 128, 28, 28]         147,456\n",
      "      BatchNorm2d-32          [-1, 128, 28, 28]             256\n",
      "             ReLU-33          [-1, 128, 28, 28]               0\n",
      "       BasicBlock-34          [-1, 128, 28, 28]               0\n",
      "           Conv2d-35          [-1, 256, 14, 14]         294,912\n",
      "      BatchNorm2d-36          [-1, 256, 14, 14]             512\n",
      "             ReLU-37          [-1, 256, 14, 14]               0\n",
      "           Conv2d-38          [-1, 256, 14, 14]         589,824\n",
      "      BatchNorm2d-39          [-1, 256, 14, 14]             512\n",
      "           Conv2d-40          [-1, 256, 14, 14]          32,768\n",
      "      BatchNorm2d-41          [-1, 256, 14, 14]             512\n",
      "             ReLU-42          [-1, 256, 14, 14]               0\n",
      "       BasicBlock-43          [-1, 256, 14, 14]               0\n",
      "           Conv2d-44          [-1, 256, 14, 14]         589,824\n",
      "      BatchNorm2d-45          [-1, 256, 14, 14]             512\n",
      "             ReLU-46          [-1, 256, 14, 14]               0\n",
      "           Conv2d-47          [-1, 256, 14, 14]         589,824\n",
      "      BatchNorm2d-48          [-1, 256, 14, 14]             512\n",
      "             ReLU-49          [-1, 256, 14, 14]               0\n",
      "       BasicBlock-50          [-1, 256, 14, 14]               0\n",
      "           Conv2d-51            [-1, 512, 7, 7]       1,179,648\n",
      "      BatchNorm2d-52            [-1, 512, 7, 7]           1,024\n",
      "             ReLU-53            [-1, 512, 7, 7]               0\n",
      "           Conv2d-54            [-1, 512, 7, 7]       2,359,296\n",
      "      BatchNorm2d-55            [-1, 512, 7, 7]           1,024\n",
      "           Conv2d-56            [-1, 512, 7, 7]         131,072\n",
      "      BatchNorm2d-57            [-1, 512, 7, 7]           1,024\n",
      "             ReLU-58            [-1, 512, 7, 7]               0\n",
      "       BasicBlock-59            [-1, 512, 7, 7]               0\n",
      "           Conv2d-60            [-1, 512, 7, 7]       2,359,296\n",
      "      BatchNorm2d-61            [-1, 512, 7, 7]           1,024\n",
      "             ReLU-62            [-1, 512, 7, 7]               0\n",
      "           Conv2d-63            [-1, 512, 7, 7]       2,359,296\n",
      "      BatchNorm2d-64            [-1, 512, 7, 7]           1,024\n",
      "             ReLU-65            [-1, 512, 7, 7]               0\n",
      "       BasicBlock-66            [-1, 512, 7, 7]               0\n",
      "AdaptiveAvgPool2d-67            [-1, 512, 1, 1]               0\n",
      "           Linear-68                 [-1, 1000]         513,000\n",
      "================================================================\n",
      "Total params: 11,689,512\n",
      "Trainable params: 11,689,512\n",
      "Non-trainable params: 0\n",
      "----------------------------------------------------------------\n",
      "Input size (MB): 0.57\n",
      "Forward/backward pass size (MB): 62.79\n",
      "Params size (MB): 44.59\n",
      "Estimated Total Size (MB): 107.96\n",
      "----------------------------------------------------------------\n"
     ]
    }
   ],
   "source": [
    "summary(model, input_size=(3, 224, 224),device=\"cpu\")"
   ]
  },
  {
   "cell_type": "code",
   "execution_count": 10,
   "metadata": {},
   "outputs": [],
   "source": [
    "# with SummaryWriter() as w:\n",
    "#     w.add_graph(model,input_to_model=t.rand(1, 3, 224, 224))"
   ]
  },
  {
   "cell_type": "code",
   "execution_count": 11,
   "metadata": {},
   "outputs": [
    {
     "name": "stdout",
     "output_type": "stream",
     "text": [
      "key: conv1.weight\n",
      "key: bn1.weight\n",
      "key: bn1.bias\n",
      "key: bn1.running_mean\n",
      "key: bn1.running_var\n",
      "key: bn1.num_batches_tracked\n",
      "key: layer1.0.conv1.weight\n",
      "key: layer1.0.bn1.weight\n",
      "key: layer1.0.bn1.bias\n",
      "key: layer1.0.bn1.running_mean\n",
      "key: layer1.0.bn1.running_var\n",
      "key: layer1.0.bn1.num_batches_tracked\n",
      "key: layer1.0.conv2.weight\n",
      "key: layer1.0.bn2.weight\n",
      "key: layer1.0.bn2.bias\n",
      "key: layer1.0.bn2.running_mean\n",
      "key: layer1.0.bn2.running_var\n",
      "key: layer1.0.bn2.num_batches_tracked\n",
      "key: layer1.1.conv1.weight\n",
      "key: layer1.1.bn1.weight\n",
      "key: layer1.1.bn1.bias\n",
      "key: layer1.1.bn1.running_mean\n",
      "key: layer1.1.bn1.running_var\n",
      "key: layer1.1.bn1.num_batches_tracked\n",
      "key: layer1.1.conv2.weight\n",
      "key: layer1.1.bn2.weight\n",
      "key: layer1.1.bn2.bias\n",
      "key: layer1.1.bn2.running_mean\n",
      "key: layer1.1.bn2.running_var\n",
      "key: layer1.1.bn2.num_batches_tracked\n",
      "key: layer2.0.conv1.weight\n",
      "key: layer2.0.bn1.weight\n",
      "key: layer2.0.bn1.bias\n",
      "key: layer2.0.bn1.running_mean\n",
      "key: layer2.0.bn1.running_var\n",
      "key: layer2.0.bn1.num_batches_tracked\n",
      "key: layer2.0.conv2.weight\n",
      "key: layer2.0.bn2.weight\n",
      "key: layer2.0.bn2.bias\n",
      "key: layer2.0.bn2.running_mean\n",
      "key: layer2.0.bn2.running_var\n",
      "key: layer2.0.bn2.num_batches_tracked\n",
      "key: layer2.0.downsample.0.weight\n",
      "key: layer2.0.downsample.1.weight\n",
      "key: layer2.0.downsample.1.bias\n",
      "key: layer2.0.downsample.1.running_mean\n",
      "key: layer2.0.downsample.1.running_var\n",
      "key: layer2.0.downsample.1.num_batches_tracked\n",
      "key: layer2.1.conv1.weight\n",
      "key: layer2.1.bn1.weight\n",
      "key: layer2.1.bn1.bias\n",
      "key: layer2.1.bn1.running_mean\n",
      "key: layer2.1.bn1.running_var\n",
      "key: layer2.1.bn1.num_batches_tracked\n",
      "key: layer2.1.conv2.weight\n",
      "key: layer2.1.bn2.weight\n",
      "key: layer2.1.bn2.bias\n",
      "key: layer2.1.bn2.running_mean\n",
      "key: layer2.1.bn2.running_var\n",
      "key: layer2.1.bn2.num_batches_tracked\n",
      "key: layer3.0.conv1.weight\n",
      "key: layer3.0.bn1.weight\n",
      "key: layer3.0.bn1.bias\n",
      "key: layer3.0.bn1.running_mean\n",
      "key: layer3.0.bn1.running_var\n",
      "key: layer3.0.bn1.num_batches_tracked\n",
      "key: layer3.0.conv2.weight\n",
      "key: layer3.0.bn2.weight\n",
      "key: layer3.0.bn2.bias\n",
      "key: layer3.0.bn2.running_mean\n",
      "key: layer3.0.bn2.running_var\n",
      "key: layer3.0.bn2.num_batches_tracked\n",
      "key: layer3.0.downsample.0.weight\n",
      "key: layer3.0.downsample.1.weight\n",
      "key: layer3.0.downsample.1.bias\n",
      "key: layer3.0.downsample.1.running_mean\n",
      "key: layer3.0.downsample.1.running_var\n",
      "key: layer3.0.downsample.1.num_batches_tracked\n",
      "key: layer3.1.conv1.weight\n",
      "key: layer3.1.bn1.weight\n",
      "key: layer3.1.bn1.bias\n",
      "key: layer3.1.bn1.running_mean\n",
      "key: layer3.1.bn1.running_var\n",
      "key: layer3.1.bn1.num_batches_tracked\n",
      "key: layer3.1.conv2.weight\n",
      "key: layer3.1.bn2.weight\n",
      "key: layer3.1.bn2.bias\n",
      "key: layer3.1.bn2.running_mean\n",
      "key: layer3.1.bn2.running_var\n",
      "key: layer3.1.bn2.num_batches_tracked\n",
      "key: layer4.0.conv1.weight\n",
      "key: layer4.0.bn1.weight\n",
      "key: layer4.0.bn1.bias\n",
      "key: layer4.0.bn1.running_mean\n",
      "key: layer4.0.bn1.running_var\n",
      "key: layer4.0.bn1.num_batches_tracked\n",
      "key: layer4.0.conv2.weight\n",
      "key: layer4.0.bn2.weight\n",
      "key: layer4.0.bn2.bias\n",
      "key: layer4.0.bn2.running_mean\n",
      "key: layer4.0.bn2.running_var\n",
      "key: layer4.0.bn2.num_batches_tracked\n",
      "key: layer4.0.downsample.0.weight\n",
      "key: layer4.0.downsample.1.weight\n",
      "key: layer4.0.downsample.1.bias\n",
      "key: layer4.0.downsample.1.running_mean\n",
      "key: layer4.0.downsample.1.running_var\n",
      "key: layer4.0.downsample.1.num_batches_tracked\n",
      "key: layer4.1.conv1.weight\n",
      "key: layer4.1.bn1.weight\n",
      "key: layer4.1.bn1.bias\n",
      "key: layer4.1.bn1.running_mean\n",
      "key: layer4.1.bn1.running_var\n",
      "key: layer4.1.bn1.num_batches_tracked\n",
      "key: layer4.1.conv2.weight\n",
      "key: layer4.1.bn2.weight\n",
      "key: layer4.1.bn2.bias\n",
      "key: layer4.1.bn2.running_mean\n",
      "key: layer4.1.bn2.running_var\n",
      "key: layer4.1.bn2.num_batches_tracked\n",
      "key: fc.weight\n",
      "key: fc.bias\n"
     ]
    }
   ],
   "source": [
    "for k, v in model.state_dict().items():\n",
    "    print(\"key:\", k)\n",
    "#     print(\"v:\", v.shape)"
   ]
  },
  {
   "cell_type": "code",
   "execution_count": 12,
   "metadata": {},
   "outputs": [],
   "source": [
    "model.fc = t.nn.Linear(in_features=512, out_features=10, bias=True)"
   ]
  },
  {
   "cell_type": "markdown",
   "metadata": {},
   "source": [
    "### vgg16"
   ]
  },
  {
   "cell_type": "code",
   "execution_count": 16,
   "metadata": {},
   "outputs": [],
   "source": [
    "vgg16 = models.vgg16(pretrained=False).features[:20]"
   ]
  },
  {
   "cell_type": "code",
   "execution_count": 17,
   "metadata": {},
   "outputs": [
    {
     "data": {
      "text/plain": [
       "Sequential(\n",
       "  (0): Conv2d(3, 64, kernel_size=(3, 3), stride=(1, 1), padding=(1, 1))\n",
       "  (1): ReLU(inplace=True)\n",
       "  (2): Conv2d(64, 64, kernel_size=(3, 3), stride=(1, 1), padding=(1, 1))\n",
       "  (3): ReLU(inplace=True)\n",
       "  (4): MaxPool2d(kernel_size=2, stride=2, padding=0, dilation=1, ceil_mode=False)\n",
       "  (5): Conv2d(64, 128, kernel_size=(3, 3), stride=(1, 1), padding=(1, 1))\n",
       "  (6): ReLU(inplace=True)\n",
       "  (7): Conv2d(128, 128, kernel_size=(3, 3), stride=(1, 1), padding=(1, 1))\n",
       "  (8): ReLU(inplace=True)\n",
       "  (9): MaxPool2d(kernel_size=2, stride=2, padding=0, dilation=1, ceil_mode=False)\n",
       "  (10): Conv2d(128, 256, kernel_size=(3, 3), stride=(1, 1), padding=(1, 1))\n",
       "  (11): ReLU(inplace=True)\n",
       "  (12): Conv2d(256, 256, kernel_size=(3, 3), stride=(1, 1), padding=(1, 1))\n",
       "  (13): ReLU(inplace=True)\n",
       "  (14): Conv2d(256, 256, kernel_size=(3, 3), stride=(1, 1), padding=(1, 1))\n",
       "  (15): ReLU(inplace=True)\n",
       "  (16): MaxPool2d(kernel_size=2, stride=2, padding=0, dilation=1, ceil_mode=False)\n",
       "  (17): Conv2d(256, 512, kernel_size=(3, 3), stride=(1, 1), padding=(1, 1))\n",
       "  (18): ReLU(inplace=True)\n",
       "  (19): Conv2d(512, 512, kernel_size=(3, 3), stride=(1, 1), padding=(1, 1))\n",
       ")"
      ]
     },
     "execution_count": 17,
     "metadata": {},
     "output_type": "execute_result"
    }
   ],
   "source": [
    "vgg16"
   ]
  },
  {
   "cell_type": "markdown",
   "metadata": {},
   "source": [
    "### 参考\n",
    "[一文看懂迁移学习：怎样用预训练模型搞定深度学习？](https://blog.csdn.net/cdknight_happy/article/details/74474688?depth_1-utm_source=distribute.pc_relevant.none-task&utm_source=distribute.pc_relevant.none-task)"
   ]
  }
 ],
 "metadata": {
  "kernelspec": {
   "display_name": "Python 3",
   "language": "python",
   "name": "python3"
  },
  "language_info": {
   "codemirror_mode": {
    "name": "ipython",
    "version": 3
   },
   "file_extension": ".py",
   "mimetype": "text/x-python",
   "name": "python",
   "nbconvert_exporter": "python",
   "pygments_lexer": "ipython3",
   "version": "3.6.3"
  }
 },
 "nbformat": 4,
 "nbformat_minor": 4
}
